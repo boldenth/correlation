{
 "cells": [
  {
   "cell_type": "code",
   "execution_count": 1,
   "metadata": {
    "collapsed": false
   },
   "outputs": [],
   "source": [
    "import sys\n",
    "import os\n",
    "\n",
    "sys.path.append(os.getcwd() + '/correlation')\n",
    "\n",
    "import correlation as co\n"
   ]
  },
  {
   "cell_type": "code",
   "execution_count": 2,
   "metadata": {
    "collapsed": false
   },
   "outputs": [
    {
     "name": "stdout",
     "output_type": "stream",
     "text": [
      "file1:  test/SSA_births_2000-2014.csv\n",
      "file2:  test/tester.csv\n",
      "File <test/SSA_births_2000-2014.csv> given\n",
      "File <test/tester.csv> given\n",
      "Container (15 rows) {0: 'year', 1: 'births', 2: 'data', 3: 'normalized births', 4: 'normalized data'}\n"
     ]
    }
   ],
   "source": [
    "file1 = \"test/SSA_births_2000-2014.csv\"\n",
    "file2 = \"test/tester.csv\"\n",
    "\n",
    "print(\"file1: \", file1)\n",
    "print(\"file2: \", file2)\n",
    "\n",
    "ct1 = co.Container(filename=file1)\n",
    "ct2 = co.Container(filename=file2)\n",
    "\n",
    "ct1.resolve_dates(combine={\"year\":\"year\", \"month\":\"month\", \"day\":\"date_of_month\"})\n",
    "ct1.add_each_year(date_col=\"ISO date\", col_name=\"births\")\n",
    "\n",
    "ct3 = ct1.combine(ct2, x1=\"year\", x2=\"year\", y1=\"births\", y2=\"data\")\n",
    "\n",
    "print(ct3)"
   ]
  },
  {
   "cell_type": "code",
   "execution_count": 3,
   "metadata": {
    "collapsed": false
   },
   "outputs": [
    {
     "name": "stdout",
     "output_type": "stream",
     "text": [
      "File <test/corrTest.csv> given\n",
      "Container (10 rows) {0: 'date', 1: 'divorces', 2: 'margarine', 3: 'normalized divorces', 4: 'normalized margarine'}    date  divorces  margarine  normalized divorces  normalized margarine\n",
      "0  2000       5.0        8.2                 1.00              1.000000\n",
      "1  2001       4.7        7.0                 0.94              0.853659\n",
      "2  2002       4.6        6.5                 0.92              0.792683\n",
      "3  2003       4.4        5.3                 0.88              0.646341\n",
      "4  2004       4.3        5.2                 0.86              0.634146\n",
      "5  2005       4.1        4.0                 0.82              0.487805\n",
      "6  2006       4.2        4.6                 0.84              0.560976\n",
      "7  2007       4.2        4.5                 0.84              0.548780\n",
      "8  2008       4.2        4.2                 0.84              0.512195\n",
      "9  2009       4.1        3.7                 0.82              0.451220\n"
     ]
    }
   ],
   "source": [
    "file3 = \"test/corrTest.csv\"\n",
    "\n",
    "ct4 = co.Container(filename=file3)\n",
    "\n",
    "ct4.normalize_column(col_name=[\"divorces\",\"margarine\"])\n",
    "\n",
    "#ct4.normalize_column(col_name=\"margarine\")\n",
    "\n",
    "#ct4.active=(\"normalized divorces\", \"normalized margarine\")\n",
    "\n",
    "print(ct4, ct4.df)\n"
   ]
  },
  {
   "cell_type": "code",
   "execution_count": 4,
   "metadata": {
    "collapsed": false
   },
   "outputs": [
    {
     "data": {
      "text/html": [
       "<div>\n",
       "<table border=\"1\" class=\"dataframe\">\n",
       "  <thead>\n",
       "    <tr style=\"text-align: right;\">\n",
       "      <th></th>\n",
       "      <th>date</th>\n",
       "      <th>divorces</th>\n",
       "      <th>margarine</th>\n",
       "      <th>normalized divorces</th>\n",
       "      <th>normalized margarine</th>\n",
       "    </tr>\n",
       "  </thead>\n",
       "  <tbody>\n",
       "    <tr>\n",
       "      <th>0</th>\n",
       "      <td>2000</td>\n",
       "      <td>5.0</td>\n",
       "      <td>8.2</td>\n",
       "      <td>1.00</td>\n",
       "      <td>1.000000</td>\n",
       "    </tr>\n",
       "    <tr>\n",
       "      <th>1</th>\n",
       "      <td>2001</td>\n",
       "      <td>4.7</td>\n",
       "      <td>7.0</td>\n",
       "      <td>0.94</td>\n",
       "      <td>0.853659</td>\n",
       "    </tr>\n",
       "    <tr>\n",
       "      <th>2</th>\n",
       "      <td>2002</td>\n",
       "      <td>4.6</td>\n",
       "      <td>6.5</td>\n",
       "      <td>0.92</td>\n",
       "      <td>0.792683</td>\n",
       "    </tr>\n",
       "    <tr>\n",
       "      <th>3</th>\n",
       "      <td>2003</td>\n",
       "      <td>4.4</td>\n",
       "      <td>5.3</td>\n",
       "      <td>0.88</td>\n",
       "      <td>0.646341</td>\n",
       "    </tr>\n",
       "    <tr>\n",
       "      <th>4</th>\n",
       "      <td>2004</td>\n",
       "      <td>4.3</td>\n",
       "      <td>5.2</td>\n",
       "      <td>0.86</td>\n",
       "      <td>0.634146</td>\n",
       "    </tr>\n",
       "    <tr>\n",
       "      <th>5</th>\n",
       "      <td>2005</td>\n",
       "      <td>4.1</td>\n",
       "      <td>4.0</td>\n",
       "      <td>0.82</td>\n",
       "      <td>0.487805</td>\n",
       "    </tr>\n",
       "    <tr>\n",
       "      <th>6</th>\n",
       "      <td>2006</td>\n",
       "      <td>4.2</td>\n",
       "      <td>4.6</td>\n",
       "      <td>0.84</td>\n",
       "      <td>0.560976</td>\n",
       "    </tr>\n",
       "    <tr>\n",
       "      <th>7</th>\n",
       "      <td>2007</td>\n",
       "      <td>4.2</td>\n",
       "      <td>4.5</td>\n",
       "      <td>0.84</td>\n",
       "      <td>0.548780</td>\n",
       "    </tr>\n",
       "    <tr>\n",
       "      <th>8</th>\n",
       "      <td>2008</td>\n",
       "      <td>4.2</td>\n",
       "      <td>4.2</td>\n",
       "      <td>0.84</td>\n",
       "      <td>0.512195</td>\n",
       "    </tr>\n",
       "    <tr>\n",
       "      <th>9</th>\n",
       "      <td>2009</td>\n",
       "      <td>4.1</td>\n",
       "      <td>3.7</td>\n",
       "      <td>0.82</td>\n",
       "      <td>0.451220</td>\n",
       "    </tr>\n",
       "  </tbody>\n",
       "</table>\n",
       "</div>"
      ],
      "text/plain": [
       "   date  divorces  margarine  normalized divorces  normalized margarine\n",
       "0  2000       5.0        8.2                 1.00              1.000000\n",
       "1  2001       4.7        7.0                 0.94              0.853659\n",
       "2  2002       4.6        6.5                 0.92              0.792683\n",
       "3  2003       4.4        5.3                 0.88              0.646341\n",
       "4  2004       4.3        5.2                 0.86              0.634146\n",
       "5  2005       4.1        4.0                 0.82              0.487805\n",
       "6  2006       4.2        4.6                 0.84              0.560976\n",
       "7  2007       4.2        4.5                 0.84              0.548780\n",
       "8  2008       4.2        4.2                 0.84              0.512195\n",
       "9  2009       4.1        3.7                 0.82              0.451220"
      ]
     },
     "execution_count": 4,
     "metadata": {},
     "output_type": "execute_result"
    }
   ],
   "source": [
    "ct4.df"
   ]
  },
  {
   "cell_type": "code",
   "execution_count": 5,
   "metadata": {
    "collapsed": false
   },
   "outputs": [
    {
     "name": "stdout",
     "output_type": "stream",
     "text": [
      "hi\n"
     ]
    }
   ],
   "source": [
    "print(\"hi\")"
   ]
  },
  {
   "cell_type": "code",
   "execution_count": null,
   "metadata": {
    "collapsed": true
   },
   "outputs": [],
   "source": []
  }
 ],
 "metadata": {
  "kernelspec": {
   "display_name": "Python 3",
   "language": "python",
   "name": "python3"
  },
  "language_info": {
   "codemirror_mode": {
    "name": "ipython",
    "version": 3
   },
   "file_extension": ".py",
   "mimetype": "text/x-python",
   "name": "python",
   "nbconvert_exporter": "python",
   "pygments_lexer": "ipython3",
   "version": "3.4.5"
  }
 },
 "nbformat": 4,
 "nbformat_minor": 1
}
