{
 "cells": [
  {
   "cell_type": "code",
   "execution_count": 1,
   "metadata": {
    "collapsed": false
   },
   "outputs": [],
   "source": [
    "import sys\n",
    "\n",
    "sys.path.append('/Users/Thomas/Documents/College/\\\n",
    "Career/Projects/Correlation-Finder/correlation')\n",
    "\n",
    "import numpy as np\n",
    "import pandas as pd\n",
    "import correlation as co\n"
   ]
  },
  {
   "cell_type": "code",
   "execution_count": 2,
   "metadata": {
    "collapsed": false
   },
   "outputs": [
    {
     "name": "stdout",
     "output_type": "stream",
     "text": [
      "file1:  test/SSA_births_2000-2014.csv\n",
      "file2:  test/tester.csv\n",
      "File <test/SSA_births_2000-2014.csv> given\n",
      "File <test/tester.csv> given\n",
      "Container (15 rows) {0: 'year', 1: 'births', 2: 'data', 3: 'normalized births', 4: 'normalized data'}\n"
     ]
    }
   ],
   "source": [
    "file1 = \"test/SSA_births_2000-2014.csv\"\n",
    "file2 = \"test/tester.csv\"\n",
    "\n",
    "print(\"file1: \", file1)\n",
    "print(\"file2: \", file2)\n",
    "\n",
    "ct1 = co.Container(filename=file1)\n",
    "ct2 = co.Container(filename=file2)\n",
    "\n",
    "ct1.resolve_dates(combine={\"year\":\"year\", \"month\":\"month\", \"day\":\"date_of_month\"})\n",
    "ct1.add_each_year(date_col=\"ISO date\", col_name=\"births\")\n",
    "\n",
    "ct3 = ct1.combine(ct2, x1=\"year\", x2=\"year\", y1=\"births\", y2=\"data\")\n",
    "\n",
    "print(ct3)"
   ]
  },
  {
   "cell_type": "code",
   "execution_count": 3,
   "metadata": {
    "collapsed": false
   },
   "outputs": [
    {
     "data": {
      "text/plain": [
       "('normalized births', 'normalized data')"
      ]
     },
     "execution_count": 3,
     "metadata": {},
     "output_type": "execute_result"
    }
   ],
   "source": [
    "ct3.active"
   ]
  },
  {
   "cell_type": "code",
   "execution_count": 7,
   "metadata": {
    "collapsed": false
   },
   "outputs": [
    {
     "name": "stdout",
     "output_type": "stream",
     "text": [
      "File <test/corrTest.csv> given\n"
     ]
    },
    {
     "data": {
      "text/plain": [
       "('normalized divorces', 'normalized margarine')"
      ]
     },
     "execution_count": 7,
     "metadata": {},
     "output_type": "execute_result"
    }
   ],
   "source": [
    "file3 = \"test/corrTest.csv\"\n",
    "\n",
    "ct4 = co.Container(filename=file3)\n",
    "\n",
    "ct4.normalize_column(col_name=[\"divorces\",\"margarine\"])\n",
    "\n",
    "#ct4.normalize_column(col_name=\"margarine\")\n",
    "\n",
    "ct4.active=(\"normalized divorces\", \"normalized margarine\")\n",
    "\n",
    "ct4.active"
   ]
  },
  {
   "cell_type": "code",
   "execution_count": null,
   "metadata": {
    "collapsed": true
   },
   "outputs": [],
   "source": []
  }
 ],
 "metadata": {
  "kernelspec": {
   "display_name": "Python 3",
   "language": "python",
   "name": "python3"
  },
  "language_info": {
   "codemirror_mode": {
    "name": "ipython",
    "version": 3
   },
   "file_extension": ".py",
   "mimetype": "text/x-python",
   "name": "python",
   "nbconvert_exporter": "python",
   "pygments_lexer": "ipython3",
   "version": "3.4.5"
  }
 },
 "nbformat": 4,
 "nbformat_minor": 1
}
